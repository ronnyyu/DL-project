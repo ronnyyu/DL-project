{
  "nbformat": 4,
  "nbformat_minor": 0,
  "metadata": {
    "colab": {
      "name": "ResNet50.ipynb",
      "provenance": [],
      "collapsed_sections": []
    },
    "kernelspec": {
      "name": "python3",
      "display_name": "Python 3"
    },
    "language_info": {
      "name": "python"
    },
    "accelerator": "GPU",
    "widgets": {
      "application/vnd.jupyter.widget-state+json": {
        "d559f9996d8d49b4bd349742211d28e6": {
          "model_module": "@jupyter-widgets/controls",
          "model_name": "HBoxModel",
          "model_module_version": "1.5.0",
          "state": {
            "_view_name": "HBoxView",
            "_dom_classes": [],
            "_model_name": "HBoxModel",
            "_view_module": "@jupyter-widgets/controls",
            "_model_module_version": "1.5.0",
            "_view_count": null,
            "_view_module_version": "1.5.0",
            "box_style": "",
            "layout": "IPY_MODEL_ced34424fc9240ed9c1ae018f8e107ce",
            "_model_module": "@jupyter-widgets/controls",
            "children": [
              "IPY_MODEL_3de794fad8224f4e9403459b94e7debc",
              "IPY_MODEL_6f307bc010a44d3da3b11f50ca347540",
              "IPY_MODEL_a670a442283446debf85022795aa165c"
            ]
          }
        },
        "ced34424fc9240ed9c1ae018f8e107ce": {
          "model_module": "@jupyter-widgets/base",
          "model_name": "LayoutModel",
          "model_module_version": "1.2.0",
          "state": {
            "_view_name": "LayoutView",
            "grid_template_rows": null,
            "right": null,
            "justify_content": null,
            "_view_module": "@jupyter-widgets/base",
            "overflow": null,
            "_model_module_version": "1.2.0",
            "_view_count": null,
            "flex_flow": null,
            "width": null,
            "min_width": null,
            "border": null,
            "align_items": null,
            "bottom": null,
            "_model_module": "@jupyter-widgets/base",
            "top": null,
            "grid_column": null,
            "overflow_y": null,
            "overflow_x": null,
            "grid_auto_flow": null,
            "grid_area": null,
            "grid_template_columns": null,
            "flex": null,
            "_model_name": "LayoutModel",
            "justify_items": null,
            "grid_row": null,
            "max_height": null,
            "align_content": null,
            "visibility": null,
            "align_self": null,
            "height": null,
            "min_height": null,
            "padding": null,
            "grid_auto_rows": null,
            "grid_gap": null,
            "max_width": null,
            "order": null,
            "_view_module_version": "1.2.0",
            "grid_template_areas": null,
            "object_position": null,
            "object_fit": null,
            "grid_auto_columns": null,
            "margin": null,
            "display": null,
            "left": null
          }
        },
        "3de794fad8224f4e9403459b94e7debc": {
          "model_module": "@jupyter-widgets/controls",
          "model_name": "HTMLModel",
          "model_module_version": "1.5.0",
          "state": {
            "_view_name": "HTMLView",
            "style": "IPY_MODEL_cb39e00d1a56435c8d5e383f79ef96af",
            "_dom_classes": [],
            "description": "",
            "_model_name": "HTMLModel",
            "placeholder": "​",
            "_view_module": "@jupyter-widgets/controls",
            "_model_module_version": "1.5.0",
            "value": "100%",
            "_view_count": null,
            "_view_module_version": "1.5.0",
            "description_tooltip": null,
            "_model_module": "@jupyter-widgets/controls",
            "layout": "IPY_MODEL_c4dfae30b65c4beba0ff24155b6ffeee"
          }
        },
        "6f307bc010a44d3da3b11f50ca347540": {
          "model_module": "@jupyter-widgets/controls",
          "model_name": "FloatProgressModel",
          "model_module_version": "1.5.0",
          "state": {
            "_view_name": "ProgressView",
            "style": "IPY_MODEL_c5297aa84f254c8e9820e00651380773",
            "_dom_classes": [],
            "description": "",
            "_model_name": "FloatProgressModel",
            "bar_style": "success",
            "max": 102530333,
            "_view_module": "@jupyter-widgets/controls",
            "_model_module_version": "1.5.0",
            "value": 102530333,
            "_view_count": null,
            "_view_module_version": "1.5.0",
            "orientation": "horizontal",
            "min": 0,
            "description_tooltip": null,
            "_model_module": "@jupyter-widgets/controls",
            "layout": "IPY_MODEL_c2a3107f3504429ab95b13355e026bf0"
          }
        },
        "a670a442283446debf85022795aa165c": {
          "model_module": "@jupyter-widgets/controls",
          "model_name": "HTMLModel",
          "model_module_version": "1.5.0",
          "state": {
            "_view_name": "HTMLView",
            "style": "IPY_MODEL_3da9bb5bd5f448d49883ad211eeddd5d",
            "_dom_classes": [],
            "description": "",
            "_model_name": "HTMLModel",
            "placeholder": "​",
            "_view_module": "@jupyter-widgets/controls",
            "_model_module_version": "1.5.0",
            "value": " 97.8M/97.8M [00:01&lt;00:00, 75.4MB/s]",
            "_view_count": null,
            "_view_module_version": "1.5.0",
            "description_tooltip": null,
            "_model_module": "@jupyter-widgets/controls",
            "layout": "IPY_MODEL_648e2ec251954d388ccb747bffd7aa9b"
          }
        },
        "cb39e00d1a56435c8d5e383f79ef96af": {
          "model_module": "@jupyter-widgets/controls",
          "model_name": "DescriptionStyleModel",
          "model_module_version": "1.5.0",
          "state": {
            "_view_name": "StyleView",
            "_model_name": "DescriptionStyleModel",
            "description_width": "",
            "_view_module": "@jupyter-widgets/base",
            "_model_module_version": "1.5.0",
            "_view_count": null,
            "_view_module_version": "1.2.0",
            "_model_module": "@jupyter-widgets/controls"
          }
        },
        "c4dfae30b65c4beba0ff24155b6ffeee": {
          "model_module": "@jupyter-widgets/base",
          "model_name": "LayoutModel",
          "model_module_version": "1.2.0",
          "state": {
            "_view_name": "LayoutView",
            "grid_template_rows": null,
            "right": null,
            "justify_content": null,
            "_view_module": "@jupyter-widgets/base",
            "overflow": null,
            "_model_module_version": "1.2.0",
            "_view_count": null,
            "flex_flow": null,
            "width": null,
            "min_width": null,
            "border": null,
            "align_items": null,
            "bottom": null,
            "_model_module": "@jupyter-widgets/base",
            "top": null,
            "grid_column": null,
            "overflow_y": null,
            "overflow_x": null,
            "grid_auto_flow": null,
            "grid_area": null,
            "grid_template_columns": null,
            "flex": null,
            "_model_name": "LayoutModel",
            "justify_items": null,
            "grid_row": null,
            "max_height": null,
            "align_content": null,
            "visibility": null,
            "align_self": null,
            "height": null,
            "min_height": null,
            "padding": null,
            "grid_auto_rows": null,
            "grid_gap": null,
            "max_width": null,
            "order": null,
            "_view_module_version": "1.2.0",
            "grid_template_areas": null,
            "object_position": null,
            "object_fit": null,
            "grid_auto_columns": null,
            "margin": null,
            "display": null,
            "left": null
          }
        },
        "c5297aa84f254c8e9820e00651380773": {
          "model_module": "@jupyter-widgets/controls",
          "model_name": "ProgressStyleModel",
          "model_module_version": "1.5.0",
          "state": {
            "_view_name": "StyleView",
            "_model_name": "ProgressStyleModel",
            "description_width": "",
            "_view_module": "@jupyter-widgets/base",
            "_model_module_version": "1.5.0",
            "_view_count": null,
            "_view_module_version": "1.2.0",
            "bar_color": null,
            "_model_module": "@jupyter-widgets/controls"
          }
        },
        "c2a3107f3504429ab95b13355e026bf0": {
          "model_module": "@jupyter-widgets/base",
          "model_name": "LayoutModel",
          "model_module_version": "1.2.0",
          "state": {
            "_view_name": "LayoutView",
            "grid_template_rows": null,
            "right": null,
            "justify_content": null,
            "_view_module": "@jupyter-widgets/base",
            "overflow": null,
            "_model_module_version": "1.2.0",
            "_view_count": null,
            "flex_flow": null,
            "width": null,
            "min_width": null,
            "border": null,
            "align_items": null,
            "bottom": null,
            "_model_module": "@jupyter-widgets/base",
            "top": null,
            "grid_column": null,
            "overflow_y": null,
            "overflow_x": null,
            "grid_auto_flow": null,
            "grid_area": null,
            "grid_template_columns": null,
            "flex": null,
            "_model_name": "LayoutModel",
            "justify_items": null,
            "grid_row": null,
            "max_height": null,
            "align_content": null,
            "visibility": null,
            "align_self": null,
            "height": null,
            "min_height": null,
            "padding": null,
            "grid_auto_rows": null,
            "grid_gap": null,
            "max_width": null,
            "order": null,
            "_view_module_version": "1.2.0",
            "grid_template_areas": null,
            "object_position": null,
            "object_fit": null,
            "grid_auto_columns": null,
            "margin": null,
            "display": null,
            "left": null
          }
        },
        "3da9bb5bd5f448d49883ad211eeddd5d": {
          "model_module": "@jupyter-widgets/controls",
          "model_name": "DescriptionStyleModel",
          "model_module_version": "1.5.0",
          "state": {
            "_view_name": "StyleView",
            "_model_name": "DescriptionStyleModel",
            "description_width": "",
            "_view_module": "@jupyter-widgets/base",
            "_model_module_version": "1.5.0",
            "_view_count": null,
            "_view_module_version": "1.2.0",
            "_model_module": "@jupyter-widgets/controls"
          }
        },
        "648e2ec251954d388ccb747bffd7aa9b": {
          "model_module": "@jupyter-widgets/base",
          "model_name": "LayoutModel",
          "model_module_version": "1.2.0",
          "state": {
            "_view_name": "LayoutView",
            "grid_template_rows": null,
            "right": null,
            "justify_content": null,
            "_view_module": "@jupyter-widgets/base",
            "overflow": null,
            "_model_module_version": "1.2.0",
            "_view_count": null,
            "flex_flow": null,
            "width": null,
            "min_width": null,
            "border": null,
            "align_items": null,
            "bottom": null,
            "_model_module": "@jupyter-widgets/base",
            "top": null,
            "grid_column": null,
            "overflow_y": null,
            "overflow_x": null,
            "grid_auto_flow": null,
            "grid_area": null,
            "grid_template_columns": null,
            "flex": null,
            "_model_name": "LayoutModel",
            "justify_items": null,
            "grid_row": null,
            "max_height": null,
            "align_content": null,
            "visibility": null,
            "align_self": null,
            "height": null,
            "min_height": null,
            "padding": null,
            "grid_auto_rows": null,
            "grid_gap": null,
            "max_width": null,
            "order": null,
            "_view_module_version": "1.2.0",
            "grid_template_areas": null,
            "object_position": null,
            "object_fit": null,
            "grid_auto_columns": null,
            "margin": null,
            "display": null,
            "left": null
          }
        }
      }
    }
  },
  "cells": [
    {
      "cell_type": "code",
      "source": [
        "import os\n",
        "import pandas as pd\n",
        "import numpy as np\n",
        "from sklearn.model_selection import train_test_split\n",
        "from shutil import copyfile\n",
        "%matplotlib inline\n",
        "import matplotlib.pyplot as plt\n",
        "from PIL import Image\n",
        "import torch\n",
        "from torchvision import datasets, models, transforms\n",
        "import torch.nn as nn\n",
        "from torch.nn import functional as F\n",
        "import torch.optim as optim\n",
        "from sklearn.metrics import accuracy_score"
      ],
      "metadata": {
        "id": "b5ZMp4BzPG0g"
      },
      "execution_count": 1,
      "outputs": []
    },
    {
      "cell_type": "markdown",
      "source": [
        "## Data Download"
      ],
      "metadata": {
        "id": "s4CZbxYWIzDu"
      }
    },
    {
      "cell_type": "code",
      "execution_count": 18,
      "metadata": {
        "colab": {
          "base_uri": "https://localhost:8080/"
        },
        "id": "sootzLVyIvk0",
        "outputId": "2f209728-0bdc-4032-a6b0-88eb0be63598"
      },
      "outputs": [
        {
          "output_type": "stream",
          "name": "stdout",
          "text": [
            "Requirement already satisfied: kaggle in /usr/local/lib/python3.7/dist-packages (1.5.12)\n",
            "Requirement already satisfied: python-slugify in /usr/local/lib/python3.7/dist-packages (from kaggle) (5.0.2)\n",
            "Requirement already satisfied: tqdm in /usr/local/lib/python3.7/dist-packages (from kaggle) (4.62.3)\n",
            "Requirement already satisfied: six>=1.10 in /usr/local/lib/python3.7/dist-packages (from kaggle) (1.15.0)\n",
            "Requirement already satisfied: certifi in /usr/local/lib/python3.7/dist-packages (from kaggle) (2021.10.8)\n",
            "Requirement already satisfied: requests in /usr/local/lib/python3.7/dist-packages (from kaggle) (2.23.0)\n",
            "Requirement already satisfied: urllib3 in /usr/local/lib/python3.7/dist-packages (from kaggle) (1.24.3)\n",
            "Requirement already satisfied: python-dateutil in /usr/local/lib/python3.7/dist-packages (from kaggle) (2.8.2)\n",
            "Requirement already satisfied: text-unidecode>=1.3 in /usr/local/lib/python3.7/dist-packages (from python-slugify->kaggle) (1.3)\n",
            "Requirement already satisfied: idna<3,>=2.5 in /usr/local/lib/python3.7/dist-packages (from requests->kaggle) (2.10)\n",
            "Requirement already satisfied: chardet<4,>=3.0.2 in /usr/local/lib/python3.7/dist-packages (from requests->kaggle) (3.0.4)\n",
            "mkdir: cannot create directory ‘/root/.kaggle’: File exists\n"
          ]
        }
      ],
      "source": [
        "!pip install kaggle\n",
        "!mkdir ~/.kaggle\n",
        "!echo '{\"username\":\"yurun1208\",\"key\":\"9eaf531858876d727f984d4dd76825a5\"}' >> kaggle.json # kaggle.json from kaggle account API"
      ]
    },
    {
      "cell_type": "code",
      "source": [
        "!rm -rf ~/.kaggle/kaggle.json\n",
        "!cp kaggle.json ~/.kaggle/\n",
        "!chmod 600 ~/.kaggle/kaggle.json\n",
        "!kaggle datasets download ikarus777/best-artworks-of-all-time\n",
        "!unzip -qq best-artworks-of-all-time.zip"
      ],
      "metadata": {
        "id": "jTESi9YCYAh5",
        "colab": {
          "base_uri": "https://localhost:8080/"
        },
        "outputId": "1494baf8-c71f-4e48-adc6-66b000227d6e"
      },
      "execution_count": 19,
      "outputs": [
        {
          "output_type": "stream",
          "name": "stdout",
          "text": [
            "Downloading best-artworks-of-all-time.zip to /content\n",
            "100% 2.28G/2.29G [00:24<00:00, 205MB/s]\n",
            "100% 2.29G/2.29G [00:25<00:00, 98.3MB/s]\n"
          ]
        }
      ]
    },
    {
      "cell_type": "markdown",
      "source": [
        "## Data Preprocess"
      ],
      "metadata": {
        "id": "Tbmi6x-MJE4G"
      }
    },
    {
      "cell_type": "code",
      "source": [
        "# artist_names = ['Edgar Degas']\n",
        "num_artists = 4\n",
        "\n",
        "artist_df = pd.read_csv('./artists.csv')\n",
        "artist_df = artist_df.sort_values(by='paintings', ascending=False)\n",
        "artist_df = artist_df.iloc[:num_artists]\n",
        "# artist_df = artist_df[artist_df['name'].isin(artist_names)]\n",
        "artist_list = artist_df['name'].str.replace(' ', '_').tolist()\n",
        "artist_dict = {}\n",
        "for i, n in enumerate(artist_list):\n",
        "    artist_dict[n] = i\n",
        "    \n",
        "artist_dict"
      ],
      "metadata": {
        "colab": {
          "base_uri": "https://localhost:8080/"
        },
        "id": "s7-A2TBoJHeK",
        "outputId": "4b8124e9-96a5-4e89-a7f9-1aec86ffde30"
      },
      "execution_count": 20,
      "outputs": [
        {
          "output_type": "execute_result",
          "data": {
            "text/plain": [
              "{'Edgar_Degas': 1,\n",
              " 'Pablo_Picasso': 2,\n",
              " 'Pierre-Auguste_Renoir': 3,\n",
              " 'Vincent_van_Gogh': 0}"
            ]
          },
          "metadata": {},
          "execution_count": 20
        }
      ]
    },
    {
      "cell_type": "code",
      "source": [
        "preprocessed_dir = './preprocessed'\n",
        "train_dir = os.path.join(preprocessed_dir, 'train')\n",
        "test_dir = os.path.join(preprocessed_dir, 'test')\n",
        "image_dir = './images/images'\n",
        "!rm -rf {preprocessed_dir}\n",
        "\n",
        "def preprocess(artist_name, image_size, train_test_split=0.3):\n",
        "    \"\"\"\n",
        "    preprocess for resizing and splitting, saving images into train dir or test dir with certain ratio\n",
        "    \"\"\"\n",
        "    artist_image_dir = os.path.join(image_dir, artist_name)\n",
        "    train_artist_dir = os.path.join(train_dir, artist_name)\n",
        "    test_artist_dir = os.path.join(test_dir, artist_name)    \n",
        "    if not os.path.exists(train_artist_dir):\n",
        "        os.makedirs(train_artist_dir)\n",
        "    if not os.path.exists(test_artist_dir):\n",
        "        os.makedirs(test_artist_dir)\n",
        "\n",
        "    image_list = []\n",
        "    for dirname, _, filenames in os.walk(artist_image_dir):\n",
        "        for idx, filename in enumerate(filenames):\n",
        "            image = Image.open(os.path.join(dirname, filename))\n",
        "            image = image.resize(image_size).convert('RGB')\n",
        "            image_list.append(np.asarray(image))\n",
        "            if idx / len(filenames) < train_test_split:\n",
        "                image.save(os.path.join(train_artist_dir, filename))\n",
        "            else:\n",
        "                image.save(os.path.join(test_artist_dir, filename))\n",
        "    return image_list\n",
        "\n",
        "\n",
        "image_size = (128, 128)\n",
        "\n",
        "image_list = []\n",
        "label_list = []\n",
        "for artist_name in artist_list:\n",
        "    il = preprocess(artist_name, image_size)\n",
        "    image_list += il\n",
        "    label_list += [artist_dict[artist_name] for i in range(len(il))]\n",
        "    \n",
        "# image_list = np.array(image_list)\n",
        "# image_list = (image_list - 127.5) / 127.5\n",
        "# label_list = np.array(label_list)\n",
        "# assert len(image_list) == len(label_list)"
      ],
      "metadata": {
        "id": "xehKU9V2JNmt"
      },
      "execution_count": 21,
      "outputs": []
    },
    {
      "cell_type": "code",
      "source": [
        "artist_list"
      ],
      "metadata": {
        "colab": {
          "base_uri": "https://localhost:8080/"
        },
        "id": "Z4eggvdIK6B1",
        "outputId": "d17fa64e-67fb-4608-d4fb-f5985496ba65"
      },
      "execution_count": 22,
      "outputs": [
        {
          "output_type": "execute_result",
          "data": {
            "text/plain": [
              "['Vincent_van_Gogh', 'Edgar_Degas', 'Pablo_Picasso', 'Pierre-Auguste_Renoir']"
            ]
          },
          "metadata": {},
          "execution_count": 22
        }
      ]
    },
    {
      "cell_type": "code",
      "source": [
        "train_dir = os.path.join(preprocessed_dir, 'train')\n",
        "test_dir = os.path.join(preprocessed_dir, 'test')\n",
        "\n",
        "normalize = transforms.Normalize(mean=[0.485, 0.456, 0.406], std=[0.229, 0.224, 0.225])\n",
        "\n",
        "data_transforms = {\n",
        "    'transform':\n",
        "    transforms.Compose([\n",
        "        transforms.Resize((32,32)),\n",
        "        transforms.ToTensor(),\n",
        "        normalize\n",
        "    ]),\n",
        "}\n",
        "\n",
        "image_datasets = {\n",
        "    'train': \n",
        "    datasets.ImageFolder(train_dir, data_transforms['transform']),\n",
        "    'test': \n",
        "    datasets.ImageFolder(test_dir, data_transforms['transform'])\n",
        "}\n",
        "\n",
        "dataloaders = {\n",
        "    'train':\n",
        "    torch.utils.data.DataLoader(image_datasets['train'],\n",
        "                                batch_size=128,\n",
        "                                shuffle=True),\n",
        "    'test':\n",
        "    torch.utils.data.DataLoader(image_datasets['test'],\n",
        "                                batch_size=128,\n",
        "                                shuffle=False,\n",
        "                                num_workers=0)}"
      ],
      "metadata": {
        "id": "6IQOX0XQJRbe"
      },
      "execution_count": 23,
      "outputs": []
    },
    {
      "cell_type": "markdown",
      "source": [
        "## ResNet50 Model"
      ],
      "metadata": {
        "id": "o6mGtQGrOOSd"
      }
    },
    {
      "cell_type": "code",
      "source": [
        "device = torch.device(\"cuda:0\" if torch.cuda.is_available() else \"cpu\")\n",
        "device"
      ],
      "metadata": {
        "colab": {
          "base_uri": "https://localhost:8080/"
        },
        "id": "QgfUy4VPONsB",
        "outputId": "7978b196-9732-45d6-97ea-de76556add21"
      },
      "execution_count": 24,
      "outputs": [
        {
          "output_type": "execute_result",
          "data": {
            "text/plain": [
              "device(type='cuda', index=0)"
            ]
          },
          "metadata": {},
          "execution_count": 24
        }
      ]
    },
    {
      "cell_type": "code",
      "source": [
        "model = models.resnet50(pretrained=True).to(device)\n",
        "    \n",
        "for param in model.parameters():\n",
        "    param.requires_grad = False   \n",
        "    \n",
        "model.fc = nn.Sequential(\n",
        "               nn.Linear(2048, 128),\n",
        "               nn.ReLU(inplace=True),\n",
        "               nn.Dropout(0.3),\n",
        "               nn.Linear(128, num_artists)).to(device)\n",
        "\n",
        "criterion = nn.CrossEntropyLoss()\n",
        "optimizer = optim.Adam(model.fc.parameters())"
      ],
      "metadata": {
        "id": "4xci9MtZOJnW",
        "colab": {
          "base_uri": "https://localhost:8080/",
          "height": 66,
          "referenced_widgets": [
            "d559f9996d8d49b4bd349742211d28e6",
            "ced34424fc9240ed9c1ae018f8e107ce",
            "3de794fad8224f4e9403459b94e7debc",
            "6f307bc010a44d3da3b11f50ca347540",
            "a670a442283446debf85022795aa165c",
            "cb39e00d1a56435c8d5e383f79ef96af",
            "c4dfae30b65c4beba0ff24155b6ffeee",
            "c5297aa84f254c8e9820e00651380773",
            "c2a3107f3504429ab95b13355e026bf0",
            "3da9bb5bd5f448d49883ad211eeddd5d",
            "648e2ec251954d388ccb747bffd7aa9b"
          ]
        },
        "outputId": "6cd3686d-61c8-497f-8a97-f8f41ff53a38"
      },
      "execution_count": 25,
      "outputs": [
        {
          "output_type": "stream",
          "name": "stderr",
          "text": [
            "Downloading: \"https://download.pytorch.org/models/resnet50-0676ba61.pth\" to /root/.cache/torch/hub/checkpoints/resnet50-0676ba61.pth\n"
          ]
        },
        {
          "output_type": "display_data",
          "data": {
            "application/vnd.jupyter.widget-view+json": {
              "model_id": "d559f9996d8d49b4bd349742211d28e6",
              "version_minor": 0,
              "version_major": 2
            },
            "text/plain": [
              "  0%|          | 0.00/97.8M [00:00<?, ?B/s]"
            ]
          },
          "metadata": {}
        }
      ]
    },
    {
      "cell_type": "markdown",
      "source": [
        "## Model Training"
      ],
      "metadata": {
        "id": "4IoqZUHgOYih"
      }
    },
    {
      "cell_type": "code",
      "source": [
        "def train_model(model, criterion, optimizer, num_epochs=3):\n",
        "    \"\"\"\n",
        "    train model with given criterion and optimizer\n",
        "    \"\"\"\n",
        "    for epoch in range(num_epochs):\n",
        "        print('Epoch {}/{}'.format(epoch+1, num_epochs))\n",
        "        print('-' * 10)\n",
        "\n",
        "        for phase in ['train', 'test']:\n",
        "            if phase == 'train':\n",
        "                model.train()\n",
        "            else:\n",
        "                model.eval()\n",
        "\n",
        "            running_loss = 0.0\n",
        "            running_corrects = 0\n",
        "\n",
        "            for inputs, labels in dataloaders[phase]:\n",
        "                inputs = inputs.to(device)\n",
        "                labels = labels.to(device)\n",
        "\n",
        "                outputs = model(inputs)\n",
        "                loss = criterion(outputs, labels)\n",
        "\n",
        "                if phase == 'train':\n",
        "                    optimizer.zero_grad()\n",
        "                    loss.backward()\n",
        "                    optimizer.step()\n",
        "\n",
        "                _, preds = torch.max(outputs, 1)\n",
        "                running_loss += loss.item() * inputs.size(0)\n",
        "                running_corrects += torch.sum(preds == labels.data)\n",
        "\n",
        "            epoch_loss = running_loss / len(image_datasets[phase])\n",
        "            epoch_acc = running_corrects.double() / len(image_datasets[phase])\n",
        "\n",
        "            print('{} loss: {:.4f}, acc: {:.4f}'.format(phase,\n",
        "                                                        epoch_loss,\n",
        "                                                        epoch_acc))\n",
        "    return model\n"
      ],
      "metadata": {
        "id": "YbzULswpOYCX"
      },
      "execution_count": 26,
      "outputs": []
    },
    {
      "cell_type": "code",
      "source": [
        "model_trained = train_model(model, criterion, optimizer, num_epochs=30)"
      ],
      "metadata": {
        "colab": {
          "base_uri": "https://localhost:8080/"
        },
        "id": "dYGnEoX_ObMx",
        "outputId": "54671f78-7bcd-4968-b584-4b2e88bddfa0"
      },
      "execution_count": 27,
      "outputs": [
        {
          "output_type": "stream",
          "name": "stdout",
          "text": [
            "Epoch 1/30\n",
            "----------\n",
            "train loss: 1.3535, acc: 0.3814\n",
            "test loss: 1.2360, acc: 0.5103\n",
            "Epoch 2/30\n",
            "----------\n",
            "train loss: 1.1746, acc: 0.5000\n",
            "test loss: 1.1812, acc: 0.5182\n",
            "Epoch 3/30\n",
            "----------\n",
            "train loss: 1.0520, acc: 0.5621\n",
            "test loss: 1.1747, acc: 0.5115\n",
            "Epoch 4/30\n",
            "----------\n",
            "train loss: 1.0182, acc: 0.5734\n",
            "test loss: 1.1322, acc: 0.5401\n",
            "Epoch 5/30\n",
            "----------\n",
            "train loss: 0.9304, acc: 0.6059\n",
            "test loss: 1.1292, acc: 0.5200\n",
            "Epoch 6/30\n",
            "----------\n",
            "train loss: 0.8922, acc: 0.6427\n",
            "test loss: 1.1503, acc: 0.5207\n",
            "Epoch 7/30\n",
            "----------\n",
            "train loss: 0.8778, acc: 0.6582\n",
            "test loss: 1.1766, acc: 0.5152\n",
            "Epoch 8/30\n",
            "----------\n",
            "train loss: 0.8148, acc: 0.6596\n",
            "test loss: 1.1772, acc: 0.4988\n",
            "Epoch 9/30\n",
            "----------\n",
            "train loss: 0.8637, acc: 0.6596\n",
            "test loss: 1.1988, acc: 0.5097\n",
            "Epoch 10/30\n",
            "----------\n",
            "train loss: 0.7612, acc: 0.6780\n",
            "test loss: 1.1961, acc: 0.5103\n",
            "Epoch 11/30\n",
            "----------\n",
            "train loss: 0.6953, acc: 0.7556\n",
            "test loss: 1.2142, acc: 0.5243\n",
            "Epoch 12/30\n",
            "----------\n",
            "train loss: 0.6882, acc: 0.7345\n",
            "test loss: 1.2693, acc: 0.4915\n",
            "Epoch 13/30\n",
            "----------\n",
            "train loss: 0.6994, acc: 0.7288\n",
            "test loss: 1.3098, acc: 0.4994\n",
            "Epoch 14/30\n",
            "----------\n",
            "train loss: 0.6798, acc: 0.7528\n",
            "test loss: 1.2318, acc: 0.5091\n",
            "Epoch 15/30\n",
            "----------\n",
            "train loss: 0.6344, acc: 0.7726\n",
            "test loss: 1.2517, acc: 0.5073\n",
            "Epoch 16/30\n",
            "----------\n",
            "train loss: 0.6196, acc: 0.7698\n",
            "test loss: 1.2845, acc: 0.5115\n",
            "Epoch 17/30\n",
            "----------\n",
            "train loss: 0.5648, acc: 0.7980\n",
            "test loss: 1.2814, acc: 0.5122\n",
            "Epoch 18/30\n",
            "----------\n",
            "train loss: 0.5224, acc: 0.8206\n",
            "test loss: 1.3060, acc: 0.5128\n",
            "Epoch 19/30\n",
            "----------\n",
            "train loss: 0.5345, acc: 0.8107\n",
            "test loss: 1.3272, acc: 0.5073\n",
            "Epoch 20/30\n",
            "----------\n",
            "train loss: 0.4846, acc: 0.8347\n",
            "test loss: 1.3546, acc: 0.5176\n",
            "Epoch 21/30\n",
            "----------\n",
            "train loss: 0.4842, acc: 0.8376\n",
            "test loss: 1.3828, acc: 0.5152\n",
            "Epoch 22/30\n",
            "----------\n",
            "train loss: 0.4680, acc: 0.8220\n",
            "test loss: 1.4170, acc: 0.5055\n",
            "Epoch 23/30\n",
            "----------\n",
            "train loss: 0.4829, acc: 0.8404\n",
            "test loss: 1.3977, acc: 0.5122\n",
            "Epoch 24/30\n",
            "----------\n",
            "train loss: 0.4699, acc: 0.8291\n",
            "test loss: 1.3777, acc: 0.5176\n",
            "Epoch 25/30\n",
            "----------\n",
            "train loss: 0.4403, acc: 0.8573\n",
            "test loss: 1.4026, acc: 0.4927\n",
            "Epoch 26/30\n",
            "----------\n",
            "train loss: 0.4815, acc: 0.8249\n",
            "test loss: 1.4308, acc: 0.5207\n",
            "Epoch 27/30\n",
            "----------\n",
            "train loss: 0.4485, acc: 0.8489\n",
            "test loss: 1.3627, acc: 0.5097\n",
            "Epoch 28/30\n",
            "----------\n",
            "train loss: 0.4426, acc: 0.8460\n",
            "test loss: 1.3860, acc: 0.5091\n",
            "Epoch 29/30\n",
            "----------\n",
            "train loss: 0.3693, acc: 0.8955\n",
            "test loss: 1.4259, acc: 0.5103\n",
            "Epoch 30/30\n",
            "----------\n",
            "train loss: 0.3723, acc: 0.8757\n",
            "test loss: 1.4296, acc: 0.5225\n"
          ]
        }
      ]
    },
    {
      "cell_type": "markdown",
      "source": [
        "## Model Storage"
      ],
      "metadata": {
        "id": "YKrYSL_LPagz"
      }
    },
    {
      "cell_type": "code",
      "source": [
        "torch.save(model_trained.state_dict(), './resnet50_4.h5')"
      ],
      "metadata": {
        "id": "13C4QvUNPQ4p"
      },
      "execution_count": 28,
      "outputs": []
    },
    {
      "cell_type": "markdown",
      "source": [
        "## Plot"
      ],
      "metadata": {
        "id": "F7XYxVUUPdk9"
      }
    },
    {
      "cell_type": "code",
      "source": [
        "import itertools\n",
        "from sklearn.metrics import confusion_matrix\n",
        "import matplotlib.pyplot as plt\n",
        "\n",
        "def plot_confusion_matrix(cm, classes, names,\n",
        "                          title='Confusion matrix',\n",
        "                          cmap=plt.cm.jet):\n",
        "    \"\"\"\n",
        "    plot confusion matrix\n",
        "    \"\"\"\n",
        "    cm = cm.astype('float') / cm.sum(axis=1)[:, np.newaxis]\n",
        "    plt.imshow(cm, interpolation='nearest', cmap=cmap)\n",
        "    plt.title(title)\n",
        "    plt.colorbar()\n",
        "    tick_marks = np.arange(len(classes))\n",
        "    plt.xticks(tick_marks, names, rotation=65)\n",
        "    plt.yticks(tick_marks, names)\n",
        "    thresh = cm.max() / 4.\n",
        "    for i, j in itertools.product(range(cm.shape[0]), range(cm.shape[1])):\n",
        "        plt.text(j, i, '{:.2f}'.format(cm[i, j]), horizontalalignment=\"center\",\n",
        "                 color=\"black\" if cm[i, j] > thresh else \"white\")\n",
        "    plt.tight_layout()\n",
        "    plt.ylabel('True label')\n",
        "    plt.xlabel('Predicted label')\n",
        "    plt.show()\n",
        "\n",
        "def plot_confuse(y_test, test_pred, names):\n",
        "    conf_mat = confusion_matrix(y_true=y_test, y_pred=test_pred)\n",
        "    plt.figure(figsize=(6,6))\n",
        "    plot_confusion_matrix(conf_mat, range(len(names)), names)\n",
        "    "
      ],
      "metadata": {
        "id": "4MN3pAhNReHW"
      },
      "execution_count": 29,
      "outputs": []
    },
    {
      "cell_type": "code",
      "source": [
        "# load\n",
        "model = models.resnet50(pretrained=False).to(device)\n",
        "model.fc = nn.Sequential(\n",
        "               nn.Linear(2048, 128),\n",
        "               nn.ReLU(inplace=True),\n",
        "               nn.Dropout(0.3),\n",
        "               nn.Linear(128, num_artists)).to(device)\n",
        "model.load_state_dict(torch.load('./resnet50_4.h5'))\n",
        "\n",
        "model.eval()\n",
        "\n",
        "y_test=torch.tensor([]).to(device)\n",
        "test_preds=torch.tensor([]).to(device)\n",
        "\n",
        "for inputs, labels in dataloaders['test']:\n",
        "    inputs = inputs.to(device)\n",
        "    labels = labels.to(device)\n",
        "    y_test=torch.cat((y_test,labels),0)\n",
        "    \n",
        "    outputs = model(inputs)\n",
        "    _, preds = torch.max(outputs, 1)\n",
        "    test_preds=torch.cat((test_preds,preds),0)\n",
        "    \n",
        "score = accuracy_score(y_test.cpu().numpy(), test_preds.cpu().numpy())\n",
        "print(score)\n",
        "\n",
        "plot_confuse(y_test.cpu(), test_preds.cpu(), artist_dict)"
      ],
      "metadata": {
        "colab": {
          "base_uri": "https://localhost:8080/",
          "height": 455
        },
        "id": "hElUpxZXPdLH",
        "outputId": "bd251d7b-3e7b-4c66-f6ab-f6737387d52c"
      },
      "execution_count": 33,
      "outputs": [
        {
          "output_type": "stream",
          "name": "stdout",
          "text": [
            "0.5224787363304981\n"
          ]
        },
        {
          "output_type": "display_data",
          "data": {
            "image/png": "[encoded data removed]",
            "text/plain": [
              "<Figure size 432x432 with 2 Axes>"
            ]
          },
          "metadata": {
            "needs_background": "light"
          }
        }
      ]
    },
    {
      "cell_type": "markdown",
      "source": [
        "## Evaluate on Generated Images"
      ],
      "metadata": {
        "id": "ebNJE4Eha_Pg"
      }
    },
    {
      "cell_type": "code",
      "source": [
        "# load\n",
        "model = models.resnet50(pretrained=False).to(device)\n",
        "model.fc = nn.Sequential(\n",
        "               nn.Linear(2048, 128),\n",
        "               nn.ReLU(inplace=True),\n",
        "               nn.Dropout(0.3),\n",
        "               nn.Linear(128, num_artists)).to(device)\n",
        "model.load_state_dict(torch.load('./resnet50_4.h5'))\n",
        "\n",
        "model.eval()\n",
        "\n",
        "y_test=torch.tensor([]).to(device)\n",
        "test_preds=torch.tensor([]).to(device)\n",
        "\n",
        "generated_dir = './images_generated'\n",
        "image_datasets = {\n",
        "    'generated': \n",
        "    datasets.ImageFolder(generated_dir, data_transforms['transform']),\n",
        "}\n",
        "\n",
        "dataloaders = {\n",
        "    'generated':\n",
        "    torch.utils.data.DataLoader(image_datasets['generated'],\n",
        "                                batch_size=128,\n",
        "                                shuffle=False)}\n",
        "\n",
        "for inputs, labels in dataloaders['generated']:\n",
        "    inputs = inputs.to(device)\n",
        "    labels = labels.to(device)\n",
        "    y_test=torch.cat((y_test,labels),0)\n",
        "    \n",
        "    outputs = model(inputs)\n",
        "    _, preds = torch.max(outputs, 1)\n",
        "    test_preds=torch.cat((test_preds,preds),0)\n",
        "    \n",
        "score = accuracy_score(y_test.cpu().numpy(), test_preds.cpu().numpy())\n",
        "plot_confuse(y_test.cpu(), test_preds.cpu(), artist_dict)\n",
        "print(score)"
      ],
      "metadata": {
        "colab": {
          "base_uri": "https://localhost:8080/",
          "height": 455
        },
        "id": "Qw2UxgFy8ec0",
        "outputId": "2e340115-c431-4b02-ee19-ea6ef26f935e"
      },
      "execution_count": 55,
      "outputs": [
        {
          "output_type": "stream",
          "name": "stdout",
          "text": [
            "0.39671931956257594\n"
          ]
        },
        {
          "output_type": "display_data",
          "data": {
            "image/png": "[encoded data removed]",
            "text/plain": [
              "<Figure size 432x432 with 2 Axes>"
            ]
          },
          "metadata": {
            "needs_background": "light"
          }
        }
      ]
    }
  ]
}