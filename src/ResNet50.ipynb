{
  "nbformat": 4,
  "nbformat_minor": 0,
  "metadata": {
    "colab": {
      "name": "ResNet50.ipynb",
      "provenance": [],
      "collapsed_sections": []
    },
    "kernelspec": {
      "name": "python3",
      "display_name": "Python 3"
    },
    "language_info": {
      "name": "python"
    },
    "accelerator": "GPU"
  },
  "cells": [
    {
      "cell_type": "code",
      "source": [
        "import os\n",
        "import pandas as pd\n",
        "import numpy as np\n",
        "from sklearn.model_selection import train_test_split\n",
        "from shutil import copyfile\n",
        "%matplotlib inline\n",
        "import matplotlib.pyplot as plt\n",
        "from PIL import Image\n",
        "import torch\n",
        "from torchvision import datasets, models, transforms\n",
        "import torch.nn as nn\n",
        "from torch.nn import functional as F\n",
        "import torch.optim as optim\n",
        "from sklearn.metrics import accuracy_score"
      ],
      "metadata": {
        "id": "b5ZMp4BzPG0g"
      },
      "execution_count": 1,
      "outputs": []
    },
    {
      "cell_type": "markdown",
      "source": [
        "## Data Download"
      ],
      "metadata": {
        "id": "s4CZbxYWIzDu"
      }
    },
    {
      "cell_type": "code",
      "execution_count": 2,
      "metadata": {
        "colab": {
          "base_uri": "https://localhost:8080/"
        },
        "id": "sootzLVyIvk0",
        "outputId": "b5287a6e-a111-4a7b-fa95-30cf41c623ab"
      },
      "outputs": [
        {
          "output_type": "stream",
          "name": "stdout",
          "text": [
            "Requirement already satisfied: kaggle in /usr/local/lib/python3.7/dist-packages (1.5.12)\n",
            "Requirement already satisfied: python-dateutil in /usr/local/lib/python3.7/dist-packages (from kaggle) (2.8.2)\n",
            "Requirement already satisfied: certifi in /usr/local/lib/python3.7/dist-packages (from kaggle) (2021.10.8)\n",
            "Requirement already satisfied: requests in /usr/local/lib/python3.7/dist-packages (from kaggle) (2.23.0)\n",
            "Requirement already satisfied: tqdm in /usr/local/lib/python3.7/dist-packages (from kaggle) (4.62.3)\n",
            "Requirement already satisfied: six>=1.10 in /usr/local/lib/python3.7/dist-packages (from kaggle) (1.15.0)\n",
            "Requirement already satisfied: python-slugify in /usr/local/lib/python3.7/dist-packages (from kaggle) (5.0.2)\n",
            "Requirement already satisfied: urllib3 in /usr/local/lib/python3.7/dist-packages (from kaggle) (1.24.3)\n",
            "Requirement already satisfied: text-unidecode>=1.3 in /usr/local/lib/python3.7/dist-packages (from python-slugify->kaggle) (1.3)\n",
            "Requirement already satisfied: chardet<4,>=3.0.2 in /usr/local/lib/python3.7/dist-packages (from requests->kaggle) (3.0.4)\n",
            "Requirement already satisfied: idna<3,>=2.5 in /usr/local/lib/python3.7/dist-packages (from requests->kaggle) (2.10)\n",
            "mkdir: cannot create directory ‘/root/.kaggle’: File exists\n"
          ]
        }
      ],
      "source": [
        "!pip install kaggle\n",
        "!mkdir ~/.kaggle\n",
        "!echo '{\"username\":\"\",\"key\":\"\"}' >> kaggle.json # kaggle.json from kaggle account API"
      ]
    },
    {
      "cell_type": "code",
      "source": [
        "!cp kaggle.json ~/.kaggle/\n",
        "!chmod 600 ~/.kaggle/kaggle.json\n",
        "!kaggle datasets download ikarus777/best-artworks-of-all-time\n",
        "!unzip -qq best-artworks-of-all-time.zip"
      ],
      "metadata": {
        "id": "jTESi9YCYAh5"
      },
      "execution_count": null,
      "outputs": []
    },
    {
      "cell_type": "markdown",
      "source": [
        "## Data Preprocess"
      ],
      "metadata": {
        "id": "Tbmi6x-MJE4G"
      }
    },
    {
      "cell_type": "code",
      "source": [
        "# artist_names = ['Edgar Degas']\n",
        "num_artists = 4\n",
        "\n",
        "artist_df = pd.read_csv('./artists.csv')\n",
        "artist_df = artist_df.sort_values(by='paintings', ascending=False)\n",
        "artist_df = artist_df.iloc[:num_artists]\n",
        "# artist_df = artist_df[artist_df['name'].isin(artist_names)]\n",
        "artist_list = artist_df['name'].str.replace(' ', '_').tolist()\n",
        "artist_dict = {}\n",
        "for i, n in enumerate(artist_list):\n",
        "    artist_dict[n] = i\n",
        "    \n",
        "artist_dict"
      ],
      "metadata": {
        "colab": {
          "base_uri": "https://localhost:8080/"
        },
        "id": "s7-A2TBoJHeK",
        "outputId": "b1633bcf-3924-4da8-e635-152a3049a5b0"
      },
      "execution_count": 15,
      "outputs": [
        {
          "output_type": "execute_result",
          "data": {
            "text/plain": [
              "{'Edgar_Degas': 1,\n",
              " 'Pablo_Picasso': 2,\n",
              " 'Pierre-Auguste_Renoir': 3,\n",
              " 'Vincent_van_Gogh': 0}"
            ]
          },
          "metadata": {},
          "execution_count": 15
        }
      ]
    },
    {
      "cell_type": "code",
      "source": [
        "preprocessed_dir = './preprocessed'\n",
        "train_dir = os.path.join(preprocessed_dir, 'train')\n",
        "test_dir = os.path.join(preprocessed_dir, 'test')\n",
        "image_dir = './images/images'\n",
        "!rm -rf {preprocessed_dir}\n",
        "\n",
        "def preprocess(artist_name, image_size, train_test_split=0.3):\n",
        "    artist_image_dir = os.path.join(image_dir, artist_name)\n",
        "    train_artist_dir = os.path.join(train_dir, artist_name)\n",
        "    test_artist_dir = os.path.join(test_dir, artist_name)    \n",
        "    if not os.path.exists(train_artist_dir):\n",
        "        os.makedirs(train_artist_dir)\n",
        "    if not os.path.exists(test_artist_dir):\n",
        "        os.makedirs(test_artist_dir)\n",
        "\n",
        "    image_list = []\n",
        "    for dirname, _, filenames in os.walk(artist_image_dir):\n",
        "        for idx, filename in enumerate(filenames):\n",
        "            image = Image.open(os.path.join(dirname, filename))\n",
        "            image = image.resize(image_size).convert('RGB')\n",
        "            image_list.append(np.asarray(image))\n",
        "            if idx / len(filenames) < train_test_split:\n",
        "                image.save(os.path.join(train_artist_dir, filename))\n",
        "            else:\n",
        "                image.save(os.path.join(test_artist_dir, filename))\n",
        "    return image_list\n",
        "\n",
        "\n",
        "image_size = (128, 128)\n",
        "\n",
        "image_list = []\n",
        "label_list = []\n",
        "for artist_name in artist_list:\n",
        "    il = preprocess(artist_name, image_size)\n",
        "    image_list += il\n",
        "    label_list += [artist_dict[artist_name] for i in range(len(il))]\n",
        "    \n",
        "# image_list = np.array(image_list)\n",
        "# image_list = (image_list - 127.5) / 127.5\n",
        "# label_list = np.array(label_list)\n",
        "# assert len(image_list) == len(label_list)"
      ],
      "metadata": {
        "id": "xehKU9V2JNmt"
      },
      "execution_count": 5,
      "outputs": []
    },
    {
      "cell_type": "code",
      "source": [
        "artist_list"
      ],
      "metadata": {
        "colab": {
          "base_uri": "https://localhost:8080/"
        },
        "id": "Z4eggvdIK6B1",
        "outputId": "7dea9682-9e36-4ec3-dac1-ef8ceb69b0af"
      },
      "execution_count": 6,
      "outputs": [
        {
          "output_type": "execute_result",
          "data": {
            "text/plain": [
              "['Vincent_van_Gogh', 'Edgar_Degas', 'Pablo_Picasso', 'Pierre-Auguste_Renoir']"
            ]
          },
          "metadata": {},
          "execution_count": 6
        }
      ]
    },
    {
      "cell_type": "code",
      "source": [
        "train_dir = os.path.join(preprocessed_dir, 'train')\n",
        "test_dir = os.path.join(preprocessed_dir, 'test')\n",
        "\n",
        "normalize = transforms.Normalize(mean=[0.485, 0.456, 0.406], std=[0.229, 0.224, 0.225])\n",
        "\n",
        "data_transforms = {\n",
        "    'transform':\n",
        "    transforms.Compose([\n",
        "        transforms.Resize((32,32)),\n",
        "        transforms.ToTensor(),\n",
        "        normalize\n",
        "    ]),\n",
        "}\n",
        "\n",
        "image_datasets = {\n",
        "    'train': \n",
        "    datasets.ImageFolder(train_dir, data_transforms['transform']),\n",
        "    'test': \n",
        "    datasets.ImageFolder(test_dir, data_transforms['transform'])\n",
        "}\n",
        "\n",
        "dataloaders = {\n",
        "    'train':\n",
        "    torch.utils.data.DataLoader(image_datasets['train'],\n",
        "                                batch_size=128,\n",
        "                                shuffle=True),\n",
        "    'test':\n",
        "    torch.utils.data.DataLoader(image_datasets['test'],\n",
        "                                batch_size=128,\n",
        "                                shuffle=False,\n",
        "                                num_workers=0)}"
      ],
      "metadata": {
        "id": "6IQOX0XQJRbe"
      },
      "execution_count": 7,
      "outputs": []
    },
    {
      "cell_type": "markdown",
      "source": [
        "## ResNet50 Model"
      ],
      "metadata": {
        "id": "o6mGtQGrOOSd"
      }
    },
    {
      "cell_type": "code",
      "source": [
        "device = torch.device(\"cuda:0\" if torch.cuda.is_available() else \"cpu\")\n",
        "device"
      ],
      "metadata": {
        "colab": {
          "base_uri": "https://localhost:8080/"
        },
        "id": "QgfUy4VPONsB",
        "outputId": "ea71612c-f39b-40e2-9ed6-11ebfc63ca17"
      },
      "execution_count": 8,
      "outputs": [
        {
          "output_type": "execute_result",
          "data": {
            "text/plain": [
              "device(type='cuda', index=0)"
            ]
          },
          "metadata": {},
          "execution_count": 8
        }
      ]
    },
    {
      "cell_type": "code",
      "source": [
        "model = models.resnet50(pretrained=True).to(device)\n",
        "    \n",
        "for param in model.parameters():\n",
        "    param.requires_grad = False   \n",
        "    \n",
        "model.fc = nn.Sequential(\n",
        "               nn.Linear(2048, 128),\n",
        "               nn.ReLU(inplace=True),\n",
        "               nn.Dropout(0.3),\n",
        "               nn.Linear(128, num_artists)).to(device)\n",
        "\n",
        "criterion = nn.CrossEntropyLoss()\n",
        "optimizer = optim.Adam(model.fc.parameters())"
      ],
      "metadata": {
        "id": "4xci9MtZOJnW"
      },
      "execution_count": 9,
      "outputs": []
    },
    {
      "cell_type": "markdown",
      "source": [
        "## Model Training"
      ],
      "metadata": {
        "id": "4IoqZUHgOYih"
      }
    },
    {
      "cell_type": "code",
      "source": [
        "def train_model(model, criterion, optimizer, num_epochs=3):\n",
        "    \n",
        "    for epoch in range(num_epochs):\n",
        "        print('Epoch {}/{}'.format(epoch+1, num_epochs))\n",
        "        print('-' * 10)\n",
        "\n",
        "        for phase in ['train', 'test']:\n",
        "            if phase == 'train':\n",
        "                model.train()\n",
        "            else:\n",
        "                model.eval()\n",
        "\n",
        "            running_loss = 0.0\n",
        "            running_corrects = 0\n",
        "\n",
        "            for inputs, labels in dataloaders[phase]:\n",
        "                inputs = inputs.to(device)\n",
        "                labels = labels.to(device)\n",
        "\n",
        "                outputs = model(inputs)\n",
        "                loss = criterion(outputs, labels)\n",
        "\n",
        "                if phase == 'train':\n",
        "                    optimizer.zero_grad()\n",
        "                    loss.backward()\n",
        "                    optimizer.step()\n",
        "\n",
        "                _, preds = torch.max(outputs, 1)\n",
        "                running_loss += loss.item() * inputs.size(0)\n",
        "                running_corrects += torch.sum(preds == labels.data)\n",
        "\n",
        "            epoch_loss = running_loss / len(image_datasets[phase])\n",
        "            epoch_acc = running_corrects.double() / len(image_datasets[phase])\n",
        "\n",
        "            print('{} loss: {:.4f}, acc: {:.4f}'.format(phase,\n",
        "                                                        epoch_loss,\n",
        "                                                        epoch_acc))\n",
        "    return model\n"
      ],
      "metadata": {
        "id": "YbzULswpOYCX"
      },
      "execution_count": 10,
      "outputs": []
    },
    {
      "cell_type": "code",
      "source": [
        "model_trained = train_model(model, criterion, optimizer, num_epochs=30)"
      ],
      "metadata": {
        "colab": {
          "base_uri": "https://localhost:8080/"
        },
        "id": "dYGnEoX_ObMx",
        "outputId": "148ff863-bccc-4398-a2c1-782cbdab4043"
      },
      "execution_count": 11,
      "outputs": [
        {
          "output_type": "stream",
          "name": "stdout",
          "text": [
            "Epoch 1/30\n",
            "----------\n",
            "train loss: 1.3597, acc: 0.3757\n",
            "test loss: 1.2187, acc: 0.5249\n",
            "Epoch 2/30\n",
            "----------\n",
            "train loss: 1.1841, acc: 0.5042\n",
            "test loss: 1.1737, acc: 0.5140\n",
            "Epoch 3/30\n",
            "----------\n",
            "train loss: 1.1031, acc: 0.5353\n",
            "test loss: 1.1466, acc: 0.5468\n",
            "Epoch 4/30\n",
            "----------\n",
            "train loss: 1.0489, acc: 0.5692\n",
            "test loss: 1.1148, acc: 0.5346\n",
            "Epoch 5/30\n",
            "----------\n",
            "train loss: 0.9655, acc: 0.5960\n",
            "test loss: 1.1103, acc: 0.5395\n",
            "Epoch 6/30\n",
            "----------\n",
            "train loss: 0.9211, acc: 0.6412\n",
            "test loss: 1.1088, acc: 0.5243\n",
            "Epoch 7/30\n",
            "----------\n",
            "train loss: 0.8293, acc: 0.6949\n",
            "test loss: 1.1299, acc: 0.5249\n",
            "Epoch 8/30\n",
            "----------\n",
            "train loss: 0.8433, acc: 0.6653\n",
            "test loss: 1.1400, acc: 0.5115\n",
            "Epoch 9/30\n",
            "----------\n",
            "train loss: 0.8189, acc: 0.6822\n",
            "test loss: 1.1628, acc: 0.5365\n",
            "Epoch 10/30\n",
            "----------\n",
            "train loss: 0.7693, acc: 0.6822\n",
            "test loss: 1.1593, acc: 0.5213\n",
            "Epoch 11/30\n",
            "----------\n",
            "train loss: 0.7576, acc: 0.7090\n",
            "test loss: 1.1823, acc: 0.5267\n",
            "Epoch 12/30\n",
            "----------\n",
            "train loss: 0.7066, acc: 0.7415\n",
            "test loss: 1.1897, acc: 0.5334\n",
            "Epoch 13/30\n",
            "----------\n",
            "train loss: 0.6764, acc: 0.7655\n",
            "test loss: 1.2625, acc: 0.5115\n",
            "Epoch 14/30\n",
            "----------\n",
            "train loss: 0.6840, acc: 0.7373\n",
            "test loss: 1.2008, acc: 0.5261\n",
            "Epoch 15/30\n",
            "----------\n",
            "train loss: 0.6392, acc: 0.7825\n",
            "test loss: 1.2198, acc: 0.5316\n",
            "Epoch 16/30\n",
            "----------\n",
            "train loss: 0.6075, acc: 0.7669\n",
            "test loss: 1.2091, acc: 0.5134\n",
            "Epoch 17/30\n",
            "----------\n",
            "train loss: 0.6257, acc: 0.7881\n",
            "test loss: 1.2175, acc: 0.5352\n",
            "Epoch 18/30\n",
            "----------\n",
            "train loss: 0.5597, acc: 0.7952\n",
            "test loss: 1.2292, acc: 0.5243\n",
            "Epoch 19/30\n",
            "----------\n",
            "train loss: 0.5478, acc: 0.8107\n",
            "test loss: 1.2675, acc: 0.5225\n",
            "Epoch 20/30\n",
            "----------\n",
            "train loss: 0.4807, acc: 0.8404\n",
            "test loss: 1.2523, acc: 0.5213\n",
            "Epoch 21/30\n",
            "----------\n",
            "train loss: 0.5167, acc: 0.8291\n",
            "test loss: 1.2842, acc: 0.5164\n",
            "Epoch 22/30\n",
            "----------\n",
            "train loss: 0.5080, acc: 0.8291\n",
            "test loss: 1.2825, acc: 0.5273\n",
            "Epoch 23/30\n",
            "----------\n",
            "train loss: 0.4685, acc: 0.8347\n",
            "test loss: 1.2703, acc: 0.5049\n",
            "Epoch 24/30\n",
            "----------\n",
            "train loss: 0.4915, acc: 0.8531\n",
            "test loss: 1.2836, acc: 0.5286\n",
            "Epoch 25/30\n",
            "----------\n",
            "train loss: 0.4841, acc: 0.8178\n",
            "test loss: 1.2897, acc: 0.5115\n",
            "Epoch 26/30\n",
            "----------\n",
            "train loss: 0.4471, acc: 0.8475\n",
            "test loss: 1.2998, acc: 0.5371\n",
            "Epoch 27/30\n",
            "----------\n",
            "train loss: 0.4047, acc: 0.8799\n",
            "test loss: 1.2779, acc: 0.5322\n",
            "Epoch 28/30\n",
            "----------\n",
            "train loss: 0.3915, acc: 0.8715\n",
            "test loss: 1.3209, acc: 0.5316\n",
            "Epoch 29/30\n",
            "----------\n",
            "train loss: 0.3844, acc: 0.8729\n",
            "test loss: 1.3269, acc: 0.5255\n",
            "Epoch 30/30\n",
            "----------\n",
            "train loss: 0.4010, acc: 0.8616\n",
            "test loss: 1.3282, acc: 0.5346\n"
          ]
        }
      ]
    },
    {
      "cell_type": "markdown",
      "source": [
        "## Model Storage"
      ],
      "metadata": {
        "id": "YKrYSL_LPagz"
      }
    },
    {
      "cell_type": "code",
      "source": [
        "torch.save(model_trained.state_dict(), './resnet50_4.h5')"
      ],
      "metadata": {
        "id": "13C4QvUNPQ4p"
      },
      "execution_count": 12,
      "outputs": []
    },
    {
      "cell_type": "markdown",
      "source": [
        "## Plot"
      ],
      "metadata": {
        "id": "F7XYxVUUPdk9"
      }
    },
    {
      "cell_type": "code",
      "source": [
        "import itertools\n",
        "from sklearn.metrics import confusion_matrix\n",
        "import matplotlib.pyplot as plt\n",
        "\n",
        "def plot_confusion_matrix(cm, classes, names,\n",
        "                          title='Confusion matrix',\n",
        "                          cmap=plt.cm.jet):\n",
        "    cm = cm.astype('float') / cm.sum(axis=1)[:, np.newaxis]\n",
        "    plt.imshow(cm, interpolation='nearest', cmap=cmap)\n",
        "    plt.title(title)\n",
        "    plt.colorbar()\n",
        "    tick_marks = np.arange(len(classes))\n",
        "    plt.xticks(tick_marks, names, rotation=65)\n",
        "    plt.yticks(tick_marks, names)\n",
        "    thresh = cm.max() / 4.\n",
        "    for i, j in itertools.product(range(cm.shape[0]), range(cm.shape[1])):\n",
        "        plt.text(j, i, '{:.2f}'.format(cm[i, j]), horizontalalignment=\"center\",\n",
        "                 color=\"black\" if cm[i, j] > thresh else \"white\")\n",
        "    plt.tight_layout()\n",
        "    plt.ylabel('True label')\n",
        "    plt.xlabel('Predicted label')\n",
        "    plt.show()\n",
        "\n",
        "def plot_confuse(y_test, test_pred, names):\n",
        "    conf_mat = confusion_matrix(y_true=y_test, y_pred=test_pred)\n",
        "    plt.figure(figsize=(6,6))\n",
        "    plot_confusion_matrix(conf_mat, range(len(names)), names)\n",
        "    "
      ],
      "metadata": {
        "id": "4MN3pAhNReHW"
      },
      "execution_count": 21,
      "outputs": []
    },
    {
      "cell_type": "code",
      "source": [
        "# load\n",
        "model = models.resnet50(pretrained=False).to(device)\n",
        "model.fc = nn.Sequential(\n",
        "               nn.Linear(2048, 128),\n",
        "               nn.ReLU(inplace=True),\n",
        "               nn.Dropout(0.3),\n",
        "               nn.Linear(128, num_artists)).to(device)\n",
        "model.load_state_dict(torch.load('./resnet50_4.h5'))\n",
        "\n",
        "model.eval()\n",
        "\n",
        "y_test=torch.tensor([]).to(device)\n",
        "test_preds=torch.tensor([]).to(device)\n",
        "\n",
        "for inputs, labels in dataloaders['test']:\n",
        "    inputs = inputs.to(device)\n",
        "    labels = labels.to(device)\n",
        "    y_test=torch.cat((y_test,labels),0)\n",
        "    \n",
        "    outputs = model(inputs)\n",
        "    _, preds = torch.max(outputs, 1)\n",
        "    test_preds=torch.cat((test_preds,preds),0)\n",
        "    \n",
        "score = accuracy_score(y_test.cpu().numpy(), test_preds.cpu().numpy())\n",
        "print(score)\n",
        "\n",
        "plot_confuse(y_test.cpu(), test_preds.cpu(), artist_dict)"
      ],
      "metadata": {
        "colab": {
          "base_uri": "https://localhost:8080/",
          "height": 455
        },
        "id": "hElUpxZXPdLH",
        "outputId": "e98e041d-177d-4c6c-e40f-1d314955b99c"
      },
      "execution_count": 22,
      "outputs": [
        {
          "output_type": "stream",
          "name": "stdout",
          "text": [
            "0.534629404617254\n"
          ]
        },
        {
          "output_type": "display_data",
          "data": {
            "image/png": "[encoded data removed]",
            "text/plain": [
              "<Figure size 432x432 with 2 Axes>"
            ]
          },
          "metadata": {
            "needs_background": "light"
          }
        }
      ]
    },
    {
      "cell_type": "markdown",
      "source": [
        "## Evaluate on Generated Images"
      ],
      "metadata": {
        "id": "ebNJE4Eha_Pg"
      }
    },
    {
      "cell_type": "code",
      "source": [
        "# load\n",
        "model = models.resnet50(pretrained=False).to(device)\n",
        "model.fc = nn.Sequential(\n",
        "               nn.Linear(2048, 128),\n",
        "               nn.ReLU(inplace=True),\n",
        "               nn.Dropout(0.3),\n",
        "               nn.Linear(128, num_artists)).to(device)\n",
        "model.load_state_dict(torch.load('./resnet50_4.h5'))\n",
        "\n",
        "model.eval()\n",
        "\n",
        "y_test=torch.tensor([]).to(device)\n",
        "test_preds=torch.tensor([]).to(device)\n",
        "\n",
        "generated_dir = './images_generated'\n",
        "image_datasets = {\n",
        "    'generated': \n",
        "    datasets.ImageFolder(generated_dir, data_transforms['transform']),\n",
        "}\n",
        "\n",
        "dataloaders = {\n",
        "    'generated':\n",
        "    torch.utils.data.DataLoader(image_datasets['generated'],\n",
        "                                batch_size=128,\n",
        "                                shuffle=False)}\n",
        "\n",
        "for inputs, labels in dataloaders['generated']:\n",
        "    inputs = inputs.to(device)\n",
        "    labels = labels.to(device)\n",
        "    y_test=torch.cat((y_test,labels),0)\n",
        "    \n",
        "    outputs = model(inputs)\n",
        "    _, preds = torch.max(outputs, 1)\n",
        "    test_preds=torch.cat((test_preds,preds),0)\n",
        "    \n",
        "score = accuracy_score(y_test.cpu().numpy(), test_preds.cpu().numpy())\n",
        "plot_confuse(y_test.cpu(), test_preds.cpu(), artist_dict)\n",
        "print(score)"
      ],
      "metadata": {
        "colab": {
          "base_uri": "https://localhost:8080/",
          "height": 455
        },
        "id": "6wb45C4cdRYD",
        "outputId": "1fa08a5e-f15b-42db-c445-a997ecfd80a3"
      },
      "execution_count": 23,
      "outputs": [
        {
          "output_type": "stream",
          "name": "stdout",
          "text": [
            "0.42952612393681655\n"
          ]
        },
        {
          "output_type": "display_data",
          "data": {
            "image/png": "[encoded data removed]",
            "text/plain": [
              "<Figure size 432x432 with 2 Axes>"
            ]
          },
          "metadata": {
            "needs_background": "light"
          }
        }
      ]
    }
  ]
}