{
 "cells": [
  {
   "cell_type": "code",
   "execution_count": 28,
   "metadata": {
    "id": "EKEsqfM5i1h-"
   },
   "outputs": [],
   "source": [
    "import os\n",
    "import numpy\n",
    "from PIL import Image\n",
    "import numpy as np\n",
    "from numpy import cov\n",
    "from numpy import trace\n",
    "from numpy import iscomplexobj\n",
    "from numpy import asarray\n",
    "from numpy.random import randint\n",
    "from scipy.linalg import sqrtm\n",
    "from keras.applications.inception_v3 import InceptionV3\n",
    "from keras.applications.inception_v3 import preprocess_input\n",
    "from keras.datasets.mnist import load_data\n",
    "from skimage.transform import resize"
   ]
  },
  {
   "cell_type": "markdown",
   "metadata": {
    "id": "LSJrrEgoi1yx"
   },
   "source": [
    "## Frechet Inception Distance\n"
   ]
  },
  {
   "cell_type": "code",
   "execution_count": 43,
   "metadata": {
    "id": "BRF7h6yBjqc7"
   },
   "outputs": [],
   "source": [
    "def imagetensor(imagedir):\n",
    "    \"\"\"\n",
    "    read image from dir and return np array for images\n",
    "    \"\"\"\n",
    "    for i, im in enumerate(os.listdir(imagedir)):\n",
    "        image= Image.open(os.path.join(imagedir, im))\n",
    "        image= image.convert('RGB')\n",
    "        if i == 0:\n",
    "            images= np.expand_dims(np.array(image, dtype= float)/255, axis= 0)\n",
    "        else:\n",
    "            image= np.expand_dims(np.array(image, dtype= float)/255, axis= 0)\n",
    "            images= np.append(images, image, axis= 0)\n",
    "    return images\n",
    "\n",
    "images1 = imagetensor('./images1')\n",
    "images2 = imagetensor('./images2')"
   ]
  },
  {
   "cell_type": "code",
   "execution_count": 41,
   "metadata": {
    "colab": {
     "base_uri": "https://localhost:8080/"
    },
    "id": "or-HjOEWjGyH",
    "outputId": "8b53abf0-dc46-4f42-8576-e1741cb30a84"
   },
   "outputs": [
    {
     "name": "stdout",
     "output_type": "stream",
     "text": [
      "(10, 128, 128, 3)\n",
      "Prepared (10, 128, 128, 3) (10, 128, 128, 3)\n",
      "Scaled (10, 299, 299, 3) (10, 299, 299, 3)\n",
      "FID (same): -0.000\n",
      "FID (different): 12.328\n"
     ]
    }
   ],
   "source": [
    "def scale_images(images, new_shape):\n",
    "    \"\"\"\n",
    "    scale images into new shape\n",
    "    \"\"\"\n",
    "    images_list = list()\n",
    "    for image in images:\n",
    "        # resize with nearest neighbor interpolation\n",
    "        new_image = resize(image, new_shape, 0)\n",
    "        # store\n",
    "        images_list.append(new_image)\n",
    "    return asarray(images_list)\n",
    " \n",
    "def calculate_fid(model, images1, images2):\n",
    "    \"\"\"\n",
    "    calculate FID score for two sets of given images\n",
    "    \"\"\"\n",
    "    act1 = model.predict(images1)\n",
    "    act2 = model.predict(images2)\n",
    "    mu1, sigma1 = act1.mean(axis=0), cov(act1, rowvar=False)\n",
    "    mu2, sigma2 = act2.mean(axis=0), cov(act2, rowvar=False)\n",
    "    ssdiff = numpy.sum((mu1 - mu2)**2.0)\n",
    "    covmean = sqrtm(sigma1.dot(sigma2))\n",
    "    if iscomplexobj(covmean):\n",
    "        covmean = covmean.real\n",
    "    fid = ssdiff + trace(sigma1 + sigma2 - 2.0 * covmean)\n",
    "    return fid\n",
    " \n",
    "model = InceptionV3(include_top=False, pooling='avg', input_shape=(299,299,3))\n",
    "\n",
    "print('Prepared', images1.shape, images2.shape)\n",
    "\n",
    "images1 = images1.astype('float32')\n",
    "images2 = images2.astype('float32')\n",
    "\n",
    "images1 = scale_images(images1, (299,299,3))\n",
    "images2 = scale_images(images2, (299,299,3))\n",
    "print('Scaled', images1.shape, images2.shape)\n",
    "\n",
    "images1 = preprocess_input(images1)\n",
    "images2 = preprocess_input(images2)\n",
    "\n",
    "fid = calculate_fid(model, images1, images1)\n",
    "print('FID (same): %.3f' % fid)\n",
    "\n",
    "fid = calculate_fid(model, images1, images2)\n",
    "print('FID (different): %.3f' % fid)"
   ]
  },
  {
   "cell_type": "markdown",
   "metadata": {
    "id": "6WVr3K_jjUVQ"
   },
   "source": [
    "## Reference\n",
    "1. [How to implement the Frechet Inception Distance](https://machinelearningmastery.com/how-to-implement-the-frechet-inception-distance-fid-from-scratch/)"
   ]
  }
 ],
 "metadata": {
  "colab": {
   "collapsed_sections": [],
   "name": "Evaluation.ipynb",
   "provenance": []
  },
  "kernelspec": {
   "display_name": "Python 3",
   "language": "python",
   "name": "python3"
  },
  "language_info": {
   "codemirror_mode": {
    "name": "ipython",
    "version": 3
   },
   "file_extension": ".py",
   "mimetype": "text/x-python",
   "name": "python",
   "nbconvert_exporter": "python",
   "pygments_lexer": "ipython3",
   "version": "3.7.6"
  }
 },
 "nbformat": 4,
 "nbformat_minor": 1
}
